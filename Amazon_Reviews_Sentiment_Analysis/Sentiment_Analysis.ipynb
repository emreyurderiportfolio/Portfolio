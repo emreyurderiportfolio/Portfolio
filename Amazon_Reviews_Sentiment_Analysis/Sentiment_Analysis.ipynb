{
 "cells": [
  {
   "cell_type": "code",
   "execution_count": 1,
   "metadata": {},
   "outputs": [
    {
     "name": "stdout",
     "output_type": "stream",
     "text": [
      "Collecting vaderSentiment\n",
      "  Using cached vaderSentiment-3.3.2-py2.py3-none-any.whl (125 kB)\n",
      "Collecting requests\n",
      "  Using cached requests-2.32.3-py3-none-any.whl (64 kB)\n",
      "Collecting charset-normalizer<4,>=2\n",
      "  Using cached charset_normalizer-3.4.1-cp39-cp39-win_amd64.whl (102 kB)\n",
      "Collecting certifi>=2017.4.17\n",
      "  Using cached certifi-2024.12.14-py3-none-any.whl (164 kB)\n",
      "Collecting urllib3<3,>=1.21.1\n",
      "  Using cached urllib3-2.3.0-py3-none-any.whl (128 kB)\n",
      "Collecting idna<4,>=2.5\n",
      "  Using cached idna-3.10-py3-none-any.whl (70 kB)\n",
      "Installing collected packages: urllib3, idna, charset-normalizer, certifi, requests, vaderSentiment\n",
      "Successfully installed certifi-2024.12.14 charset-normalizer-3.4.1 idna-3.10 requests-2.32.3 urllib3-2.3.0 vaderSentiment-3.3.2\n"
     ]
    },
    {
     "name": "stderr",
     "output_type": "stream",
     "text": [
      "\n",
      "[notice] A new release of pip is available: 23.0.1 -> 24.3.1\n",
      "[notice] To update, run: python.exe -m pip install --upgrade pip\n"
     ]
    },
    {
     "name": "stdout",
     "output_type": "stream",
     "text": [
      "Collecting textblob\n",
      "  Using cached textblob-0.18.0.post0-py3-none-any.whl (626 kB)\n",
      "Collecting nltk>=3.8\n",
      "  Using cached nltk-3.9.1-py3-none-any.whl (1.5 MB)\n",
      "Collecting regex>=2021.8.3\n",
      "  Using cached regex-2024.11.6-cp39-cp39-win_amd64.whl (274 kB)\n",
      "Collecting click\n",
      "  Using cached click-8.1.8-py3-none-any.whl (98 kB)\n",
      "Collecting joblib\n",
      "  Using cached joblib-1.4.2-py3-none-any.whl (301 kB)\n",
      "Collecting tqdm\n",
      "  Using cached tqdm-4.67.1-py3-none-any.whl (78 kB)\n",
      "Requirement already satisfied: colorama in c:\\users\\emrey\\desktop\\centennial\\portfolio\\sentiment_analysis_env\\lib\\site-packages (from click->nltk>=3.8->textblob) (0.4.6)\n",
      "Installing collected packages: tqdm, regex, joblib, click, nltk, textblob\n",
      "Successfully installed click-8.1.8 joblib-1.4.2 nltk-3.9.1 regex-2024.11.6 textblob-0.18.0.post0 tqdm-4.67.1\n"
     ]
    },
    {
     "name": "stderr",
     "output_type": "stream",
     "text": [
      "\n",
      "[notice] A new release of pip is available: 23.0.1 -> 24.3.1\n",
      "[notice] To update, run: python.exe -m pip install --upgrade pip\n",
      "\n",
      "[notice] A new release of pip is available: 23.0.1 -> 24.3.1\n",
      "[notice] To update, run: python.exe -m pip install --upgrade pip\n"
     ]
    },
    {
     "name": "stdout",
     "output_type": "stream",
     "text": [
      "Requirement already satisfied: nltk in c:\\users\\emrey\\desktop\\centennial\\portfolio\\sentiment_analysis_env\\lib\\site-packages (3.9.1)\n",
      "Requirement already satisfied: click in c:\\users\\emrey\\desktop\\centennial\\portfolio\\sentiment_analysis_env\\lib\\site-packages (from nltk) (8.1.8)\n",
      "Requirement already satisfied: joblib in c:\\users\\emrey\\desktop\\centennial\\portfolio\\sentiment_analysis_env\\lib\\site-packages (from nltk) (1.4.2)\n",
      "Requirement already satisfied: tqdm in c:\\users\\emrey\\desktop\\centennial\\portfolio\\sentiment_analysis_env\\lib\\site-packages (from nltk) (4.67.1)\n",
      "Requirement already satisfied: regex>=2021.8.3 in c:\\users\\emrey\\desktop\\centennial\\portfolio\\sentiment_analysis_env\\lib\\site-packages (from nltk) (2024.11.6)\n",
      "Requirement already satisfied: colorama in c:\\users\\emrey\\desktop\\centennial\\portfolio\\sentiment_analysis_env\\lib\\site-packages (from click->nltk) (0.4.6)\n"
     ]
    }
   ],
   "source": [
    "!pip install vaderSentiment \n",
    "!pip install textblob \n",
    "!pip install nltk"
   ]
  },
  {
   "cell_type": "code",
   "execution_count": 9,
   "metadata": {},
   "outputs": [],
   "source": [
    "import nltk\n",
    "import pandas as pd\n",
    "import numpy as np\n",
    "import matplotlib.pyplot as plt\n",
    "import seaborn as sns\n",
    "import re\n",
    "from vaderSentiment.vaderSentiment import SentimentIntensityAnalyzer\n",
    "from textblob import TextBlob\n",
    "from nltk.corpus import stopwords\n",
    "from nltk.tokenize import word_tokenize"
   ]
  },
  {
   "cell_type": "code",
   "execution_count": 31,
   "metadata": {},
   "outputs": [
    {
     "name": "stderr",
     "output_type": "stream",
     "text": [
      "[nltk_data] Downloading package punkt_tab to\n",
      "[nltk_data]     C:\\Users\\emrey\\AppData\\Roaming\\nltk_data...\n",
      "[nltk_data]   Package punkt_tab is already up-to-date!\n"
     ]
    },
    {
     "data": {
      "text/plain": [
       "True"
      ]
     },
     "execution_count": 31,
     "metadata": {},
     "output_type": "execute_result"
    }
   ],
   "source": [
    "nltk.download('punkt_tab')"
   ]
  },
  {
   "cell_type": "code",
   "execution_count": 11,
   "metadata": {},
   "outputs": [
    {
     "name": "stdout",
     "output_type": "stream",
     "text": [
      "NLTK resource 'stopwords' is already downloaded.\n",
      "NLTK resource 'punkt' is already downloaded.\n",
      "Stop words set to English.\n"
     ]
    }
   ],
   "source": [
    "# Check if the resource is already downloaded to avoid redundancy\n",
    "def download_nltk_resources(resources):\n",
    "    for resource in resources:\n",
    "        if not nltk.download(resource, quiet=True):\n",
    "            print(f\"Downloading NLTK resource: {resource}\")\n",
    "            nltk.download(resource)\n",
    "        else:\n",
    "            print(f\"NLTK resource '{resource}' is already downloaded.\")\n",
    "\n",
    "resources_needed = ['stopwords', 'punkt']\n",
    "download_nltk_resources(resources_needed)\n",
    "\n",
    "# Set English stop words\n",
    "stop_words = set(stopwords.words('english'))\n",
    "print(f\"Stop words set to English.\")"
   ]
  },
  {
   "cell_type": "markdown",
   "metadata": {},
   "source": [
    "## Data Exploration"
   ]
  },
  {
   "cell_type": "markdown",
   "metadata": {},
   "source": [
    "| Column    | Description |\n",
    "| ------------- | ----------|\n",
    "| Overall | rating|\n",
    "| verified |  the review is posted by a customer who did buy the product from Amazon and paid a normal price |\n",
    "| reviewTime |  date where the review is posted |\n",
    "| reviewerID |  userID |\n",
    "| asin |  Amazon Standard Identification Number, a unique id for each product |\n",
    "| reviewerName |  username |\n",
    "| reviewText |  self-explanatory |\n",
    "| summary |  short summary of reviewText |\n",
    "| unixReviewTime |  review time in Unix Timestamp format |\n",
    "| vote |  votes of the review |\n",
    "| style |  a dictionary of product's metadata |\n",
    "| image |  images posted by the reviewer after receiving the product |"
   ]
  },
  {
   "cell_type": "code",
   "execution_count": 13,
   "metadata": {},
   "outputs": [
    {
     "name": "stdout",
     "output_type": "stream",
     "text": [
      "<class 'pandas.core.frame.DataFrame'>\n",
      "RangeIndex: 497577 entries, 0 to 497576\n",
      "Data columns (total 12 columns):\n",
      " #   Column          Non-Null Count   Dtype \n",
      "---  ------          --------------   ----- \n",
      " 0   overall         497577 non-null  int64 \n",
      " 1   verified        497577 non-null  bool  \n",
      " 2   reviewTime      497577 non-null  object\n",
      " 3   reviewerID      497577 non-null  object\n",
      " 4   asin            497577 non-null  object\n",
      " 5   reviewerName    497501 non-null  object\n",
      " 6   reviewText      497419 non-null  object\n",
      " 7   summary         497468 non-null  object\n",
      " 8   unixReviewTime  497577 non-null  int64 \n",
      " 9   vote            107793 non-null  object\n",
      " 10  style           289237 non-null  object\n",
      " 11  image           3634 non-null    object\n",
      "dtypes: bool(1), int64(2), object(9)\n",
      "memory usage: 42.2+ MB\n",
      "None\n"
     ]
    }
   ],
   "source": [
    "data = pd.read_json('Video_Games_5.json', lines=True)\n",
    "print(data.info())"
   ]
  },
  {
   "cell_type": "code",
   "execution_count": 14,
   "metadata": {},
   "outputs": [
    {
     "data": {
      "text/html": [
       "<div>\n",
       "<style scoped>\n",
       "    .dataframe tbody tr th:only-of-type {\n",
       "        vertical-align: middle;\n",
       "    }\n",
       "\n",
       "    .dataframe tbody tr th {\n",
       "        vertical-align: top;\n",
       "    }\n",
       "\n",
       "    .dataframe thead th {\n",
       "        text-align: right;\n",
       "    }\n",
       "</style>\n",
       "<table border=\"1\" class=\"dataframe\">\n",
       "  <thead>\n",
       "    <tr style=\"text-align: right;\">\n",
       "      <th></th>\n",
       "      <th>overall</th>\n",
       "      <th>verified</th>\n",
       "      <th>reviewTime</th>\n",
       "      <th>reviewerID</th>\n",
       "      <th>asin</th>\n",
       "      <th>reviewerName</th>\n",
       "      <th>reviewText</th>\n",
       "      <th>summary</th>\n",
       "      <th>unixReviewTime</th>\n",
       "      <th>vote</th>\n",
       "      <th>style</th>\n",
       "      <th>image</th>\n",
       "    </tr>\n",
       "  </thead>\n",
       "  <tbody>\n",
       "    <tr>\n",
       "      <th>0</th>\n",
       "      <td>5</td>\n",
       "      <td>True</td>\n",
       "      <td>10 17, 2015</td>\n",
       "      <td>A1HP7NVNPFMA4N</td>\n",
       "      <td>0700026657</td>\n",
       "      <td>Ambrosia075</td>\n",
       "      <td>This game is a bit hard to get the hang of, bu...</td>\n",
       "      <td>but when you do it's great.</td>\n",
       "      <td>1445040000</td>\n",
       "      <td>NaN</td>\n",
       "      <td>NaN</td>\n",
       "      <td>NaN</td>\n",
       "    </tr>\n",
       "    <tr>\n",
       "      <th>1</th>\n",
       "      <td>4</td>\n",
       "      <td>False</td>\n",
       "      <td>07 27, 2015</td>\n",
       "      <td>A1JGAP0185YJI6</td>\n",
       "      <td>0700026657</td>\n",
       "      <td>travis</td>\n",
       "      <td>I played it a while but it was alright. The st...</td>\n",
       "      <td>But in spite of that it was fun, I liked it</td>\n",
       "      <td>1437955200</td>\n",
       "      <td>NaN</td>\n",
       "      <td>NaN</td>\n",
       "      <td>NaN</td>\n",
       "    </tr>\n",
       "    <tr>\n",
       "      <th>2</th>\n",
       "      <td>3</td>\n",
       "      <td>True</td>\n",
       "      <td>02 23, 2015</td>\n",
       "      <td>A1YJWEXHQBWK2B</td>\n",
       "      <td>0700026657</td>\n",
       "      <td>Vincent G. Mezera</td>\n",
       "      <td>ok game.</td>\n",
       "      <td>Three Stars</td>\n",
       "      <td>1424649600</td>\n",
       "      <td>NaN</td>\n",
       "      <td>NaN</td>\n",
       "      <td>NaN</td>\n",
       "    </tr>\n",
       "    <tr>\n",
       "      <th>3</th>\n",
       "      <td>2</td>\n",
       "      <td>True</td>\n",
       "      <td>02 20, 2015</td>\n",
       "      <td>A2204E1TH211HT</td>\n",
       "      <td>0700026657</td>\n",
       "      <td>Grandma KR</td>\n",
       "      <td>found the game a bit too complicated, not what...</td>\n",
       "      <td>Two Stars</td>\n",
       "      <td>1424390400</td>\n",
       "      <td>NaN</td>\n",
       "      <td>NaN</td>\n",
       "      <td>NaN</td>\n",
       "    </tr>\n",
       "    <tr>\n",
       "      <th>4</th>\n",
       "      <td>5</td>\n",
       "      <td>True</td>\n",
       "      <td>12 25, 2014</td>\n",
       "      <td>A2RF5B5H74JLPE</td>\n",
       "      <td>0700026657</td>\n",
       "      <td>jon</td>\n",
       "      <td>great game, I love it and have played it since...</td>\n",
       "      <td>love this game</td>\n",
       "      <td>1419465600</td>\n",
       "      <td>NaN</td>\n",
       "      <td>NaN</td>\n",
       "      <td>NaN</td>\n",
       "    </tr>\n",
       "  </tbody>\n",
       "</table>\n",
       "</div>"
      ],
      "text/plain": [
       "   overall  verified   reviewTime      reviewerID        asin  \\\n",
       "0        5      True  10 17, 2015  A1HP7NVNPFMA4N  0700026657   \n",
       "1        4     False  07 27, 2015  A1JGAP0185YJI6  0700026657   \n",
       "2        3      True  02 23, 2015  A1YJWEXHQBWK2B  0700026657   \n",
       "3        2      True  02 20, 2015  A2204E1TH211HT  0700026657   \n",
       "4        5      True  12 25, 2014  A2RF5B5H74JLPE  0700026657   \n",
       "\n",
       "        reviewerName                                         reviewText  \\\n",
       "0        Ambrosia075  This game is a bit hard to get the hang of, bu...   \n",
       "1             travis  I played it a while but it was alright. The st...   \n",
       "2  Vincent G. Mezera                                           ok game.   \n",
       "3         Grandma KR  found the game a bit too complicated, not what...   \n",
       "4                jon  great game, I love it and have played it since...   \n",
       "\n",
       "                                       summary  unixReviewTime vote style  \\\n",
       "0                  but when you do it's great.      1445040000  NaN   NaN   \n",
       "1  But in spite of that it was fun, I liked it      1437955200  NaN   NaN   \n",
       "2                                  Three Stars      1424649600  NaN   NaN   \n",
       "3                                    Two Stars      1424390400  NaN   NaN   \n",
       "4                               love this game      1419465600  NaN   NaN   \n",
       "\n",
       "  image  \n",
       "0   NaN  \n",
       "1   NaN  \n",
       "2   NaN  \n",
       "3   NaN  \n",
       "4   NaN  "
      ]
     },
     "execution_count": 14,
     "metadata": {},
     "output_type": "execute_result"
    }
   ],
   "source": [
    "data.head()"
   ]
  },
  {
   "cell_type": "code",
   "execution_count": 15,
   "metadata": {},
   "outputs": [
    {
     "data": {
      "text/html": [
       "<div>\n",
       "<style scoped>\n",
       "    .dataframe tbody tr th:only-of-type {\n",
       "        vertical-align: middle;\n",
       "    }\n",
       "\n",
       "    .dataframe tbody tr th {\n",
       "        vertical-align: top;\n",
       "    }\n",
       "\n",
       "    .dataframe thead th {\n",
       "        text-align: right;\n",
       "    }\n",
       "</style>\n",
       "<table border=\"1\" class=\"dataframe\">\n",
       "  <thead>\n",
       "    <tr style=\"text-align: right;\">\n",
       "      <th></th>\n",
       "      <th>Missing Values</th>\n",
       "      <th>Percent</th>\n",
       "    </tr>\n",
       "  </thead>\n",
       "  <tbody>\n",
       "    <tr>\n",
       "      <th>image</th>\n",
       "      <td>493943</td>\n",
       "      <td>99.0</td>\n",
       "    </tr>\n",
       "    <tr>\n",
       "      <th>vote</th>\n",
       "      <td>389784</td>\n",
       "      <td>78.0</td>\n",
       "    </tr>\n",
       "    <tr>\n",
       "      <th>style</th>\n",
       "      <td>208340</td>\n",
       "      <td>42.0</td>\n",
       "    </tr>\n",
       "    <tr>\n",
       "      <th>reviewText</th>\n",
       "      <td>158</td>\n",
       "      <td>0.0</td>\n",
       "    </tr>\n",
       "    <tr>\n",
       "      <th>summary</th>\n",
       "      <td>109</td>\n",
       "      <td>0.0</td>\n",
       "    </tr>\n",
       "    <tr>\n",
       "      <th>reviewerName</th>\n",
       "      <td>76</td>\n",
       "      <td>0.0</td>\n",
       "    </tr>\n",
       "  </tbody>\n",
       "</table>\n",
       "</div>"
      ],
      "text/plain": [
       "              Missing Values  Percent\n",
       "image                 493943     99.0\n",
       "vote                  389784     78.0\n",
       "style                 208340     42.0\n",
       "reviewText               158      0.0\n",
       "summary                  109      0.0\n",
       "reviewerName              76      0.0"
      ]
     },
     "metadata": {},
     "output_type": "display_data"
    }
   ],
   "source": [
    "#Check missing values per column\n",
    "miss_val = data.isnull().sum()\n",
    "miss_val=miss_val.drop(miss_val[miss_val == 0].index).sort_values(ascending = False)\n",
    "display(pd.DataFrame({'Missing Values':miss_val, 'Percent':round(miss_val/len(data),2)*100}))"
   ]
  },
  {
   "cell_type": "code",
   "execution_count": 21,
   "metadata": {},
   "outputs": [
    {
     "data": {
      "image/png": "[encoded data removed]",
      "text/plain": [
       "<Figure size 1200x400 with 1 Axes>"
      ]
     },
     "metadata": {},
     "output_type": "display_data"
    },
    {
     "data": {
      "image/png": "[encoded data removed]",
      "text/plain": [
       "<Figure size 1200x400 with 2 Axes>"
      ]
     },
     "metadata": {},
     "output_type": "display_data"
    }
   ],
   "source": [
    "#Plotting the overall rating distribution\n",
    "rating_counts = data['overall'].value_counts().reset_index()\n",
    "rating_counts.columns = ['overall', 'count']\n",
    "rating_counts['proportion'] = rating_counts['count']/rating_counts['count'].sum()\n",
    "\n",
    "fig = plt.figure(figsize=(12,4))\n",
    "plt.subplot(1,1,1)\n",
    "sns.barplot(data=rating_counts,x='overall',y='proportion')\n",
    "plt.title('Overall Rating Distribution')\n",
    "plt.xlabel('Overall Rating')\n",
    "plt.tight_layout()\n",
    "plt.show()\n",
    "\n",
    "\n",
    "fig = plt.figure(figsize=(12,4))\n",
    "plt.subplot(2,2,1)\n",
    "sns.barplot(x=data[data['verified']==True]['overall'].value_counts().index,\n",
    "            y=data[data['verified']==True]['overall'].value_counts() )\n",
    "plt.title('Overall Score Distribution of Verified Reviews')\n",
    "plt.subplot(2,2,2)\n",
    "sns.barplot(x=data[data['verified']==False]['overall'].value_counts().index,\n",
    "            y=data[data['verified']==False]['overall'].value_counts() )\n",
    "plt.title('Overall Score Distribution of Unverified Reviews')\n",
    "plt.tight_layout()\n",
    "plt.show()"
   ]
  },
  {
   "cell_type": "code",
   "execution_count": 22,
   "metadata": {},
   "outputs": [
    {
     "name": "stdout",
     "output_type": "stream",
     "text": [
      "Rating Counts: \n",
      "overall\n",
      "5    299759\n",
      "4     93654\n",
      "3     49146\n",
      "1     30883\n",
      "2     24135\n",
      "Name: count, dtype: int64\n",
      "\n",
      "Average Rating: 4.22\n"
     ]
    }
   ],
   "source": [
    "rating_counts = data['overall'].value_counts()\n",
    "print(f\"Rating Counts: \\n{rating_counts}\\n\")\n",
    "\n",
    "average_rating = data['overall'].mean()\n",
    "print(f\"Average Rating: {average_rating:.2f}\")"
   ]
  },
  {
   "cell_type": "code",
   "execution_count": 24,
   "metadata": {},
   "outputs": [
    {
     "name": "stdout",
     "output_type": "stream",
     "text": [
      "Distribution of Reviews Across Products: \n",
      "asin\n",
      "B00178630A    1381\n",
      "B000ZK9QCS     905\n",
      "B000XJNTNS     834\n",
      "B00JK00S0S     783\n",
      "B000ZKA0J6     774\n",
      "              ... \n",
      "B0017YHYFM       1\n",
      "B000WKW6AU       1\n",
      "B000XJD33E       1\n",
      "B000WZ7OD4       1\n",
      "B0011W8DNW       1\n",
      "Name: count, Length: 17408, dtype: int64\n",
      "\n"
     ]
    },
    {
     "data": {
      "image/png": "[encoded data removed]",
      "text/plain": [
       "<Figure size 2000x600 with 1 Axes>"
      ]
     },
     "metadata": {},
     "output_type": "display_data"
    }
   ],
   "source": [
    "product_review_counts = data['asin'].value_counts()\n",
    "print(f\"Distribution of Reviews Across Products: \\n{product_review_counts}\\n\")\n",
    "\n",
    "plt.figure(figsize=(20,6))\n",
    "plt.bar(product_review_counts.index[:1000],product_review_counts[:1000],color='darkblue')\n",
    "plt.xlabel('Products')\n",
    "plt.ylabel('Number of Ratings')\n",
    "plt.title('Sorted Distribution of Number of Ratings across Product')\n",
    "plt.xticks([])\n",
    "\n",
    "plt.show()"
   ]
  },
  {
   "cell_type": "code",
   "execution_count": 25,
   "metadata": {},
   "outputs": [
    {
     "data": {
      "image/png": "[encoded data removed]",
      "text/plain": [
       "<Figure size 2000x600 with 1 Axes>"
      ]
     },
     "metadata": {},
     "output_type": "display_data"
    }
   ],
   "source": [
    "average_ratings_per_product = data.groupby('asin')['overall'].mean().sort_values()\n",
    "\n",
    "plt.figure(figsize=(20,6))\n",
    "plt.bar(average_ratings_per_product.index, average_ratings_per_product, color='skyblue')\n",
    "plt.xlabel('Products')\n",
    "plt.ylabel('Average Ratings')\n",
    "plt.title('Distribution of Average Ratings per Product')\n",
    "plt.xticks([]) \n",
    "\n",
    "plt.show()"
   ]
  },
  {
   "cell_type": "code",
   "execution_count": 26,
   "metadata": {},
   "outputs": [
    {
     "name": "stdout",
     "output_type": "stream",
     "text": [
      "Distribution of Reviews Per User: \n",
      "reviewerID\n",
      "A3V6Z4RCDGRC44    815\n",
      "AJKWF4W7QD4NS     795\n",
      "A3W4D8XOGLWUN5    521\n",
      "A2QHS1ZCIQOL7E    472\n",
      "A2TCG2HV1VJP6V    453\n",
      "                 ... \n",
      "A3TJT6OK2CNJQW      5\n",
      "AP29MC4YEW1NL       5\n",
      "A28C2PAK06VJ4L      4\n",
      "A1I75X6T38Y4UW      4\n",
      "A1HV707K7KWQP0      4\n",
      "Name: count, Length: 55223, dtype: int64\n",
      "\n"
     ]
    },
    {
     "data": {
      "image/png": "[encoded data removed]",
      "text/plain": [
       "<Figure size 2000x600 with 1 Axes>"
      ]
     },
     "metadata": {},
     "output_type": "display_data"
    }
   ],
   "source": [
    "user_review_counts = data['reviewerID'].value_counts()\n",
    "print(f\"Distribution of Reviews Per User: \\n{user_review_counts}\\n\")\n",
    "\n",
    "\n",
    "plt.figure(figsize=(20,6))\n",
    "plt.bar(user_review_counts.index[:1000], user_review_counts[:1000], color='darkblue')\n",
    "plt.xlabel('ReviewerID')\n",
    "plt.ylabel('Number of Ratings')\n",
    "plt.title('Sorted Distribution of Number of Ratings by ReviewerID')\n",
    "plt.xticks([])\n",
    "\n",
    "plt.show()"
   ]
  },
  {
   "cell_type": "code",
   "execution_count": 27,
   "metadata": {},
   "outputs": [
    {
     "name": "stdout",
     "output_type": "stream",
     "text": [
      "reviewerID:  A3V6Z4RCDGRC44\n",
      "Average rating:  [4.29447853]\n",
      "Number of reviews:  [815]\n",
      "\n",
      "reviewerID:  AJKWF4W7QD4NS\n",
      "Average rating:  [3.67672956]\n",
      "Number of reviews:  [795]\n",
      "\n",
      "reviewerID:  A3W4D8XOGLWUN5\n",
      "Average rating:  [3.75815739]\n",
      "Number of reviews:  [521]\n",
      "\n",
      "reviewerID:  A2QHS1ZCIQOL7E\n",
      "Average rating:  [3.66949153]\n",
      "Number of reviews:  [472]\n",
      "\n",
      "reviewerID:  A2TCG2HV1VJP6V\n",
      "Average rating:  [4.0794702]\n",
      "Number of reviews:  [453]\n",
      "\n",
      "reviewerID:  A29BQ6B90Y1R5F\n",
      "Average rating:  [4.20924574]\n",
      "Number of reviews:  [411]\n",
      "\n",
      "reviewerID:  A119Q9NFGVOEJZ\n",
      "Average rating:  [5.]\n",
      "Number of reviews:  [353]\n",
      "\n",
      "reviewerID:  A2582KMXLK2P06\n",
      "Average rating:  [3.55414013]\n",
      "Number of reviews:  [314]\n",
      "\n",
      "reviewerID:  A20DZX38KRBIT8\n",
      "Average rating:  [3.29432624]\n",
      "Number of reviews:  [282]\n",
      "\n",
      "reviewerID:  A74TA8X5YQ7NE\n",
      "Average rating:  [3.70610687]\n",
      "Number of reviews:  [262]\n",
      "\n",
      "reviewerID:  A3GKMQFL05Z79K\n",
      "Average rating:  [4.5755102]\n",
      "Number of reviews:  [245]\n",
      "\n",
      "reviewerID:  A1AISPOIIHTHXX\n",
      "Average rating:  [4.46861925]\n",
      "Number of reviews:  [239]\n",
      "\n",
      "reviewerID:  A8NHN9UPML858\n",
      "Average rating:  [4.77433628]\n",
      "Number of reviews:  [226]\n",
      "\n",
      "reviewerID:  A3J8ABVGK7ZL6H\n",
      "Average rating:  [3.53240741]\n",
      "Number of reviews:  [216]\n",
      "\n",
      "reviewerID:  AQMWZIH22R6LE\n",
      "Average rating:  [4.1127451]\n",
      "Number of reviews:  [204]\n",
      "\n",
      "reviewerID:  AWG2O9C42XW5G\n",
      "Average rating:  [4.48717949]\n",
      "Number of reviews:  [195]\n",
      "\n",
      "reviewerID:  A2IGEPJJYKMOWK\n",
      "Average rating:  [4.46703297]\n",
      "Number of reviews:  [182]\n",
      "\n",
      "reviewerID:  A25S4PI8ECOWD8\n",
      "Average rating:  [3.76966292]\n",
      "Number of reviews:  [178]\n",
      "\n",
      "reviewerID:  A2GBBDNZLYC4A9\n",
      "Average rating:  [3.77011494]\n",
      "Number of reviews:  [174]\n",
      "\n",
      "reviewerID:  A15JPYV0L19RF\n",
      "Average rating:  [4.45454545]\n",
      "Number of reviews:  [165]\n",
      "\n"
     ]
    }
   ],
   "source": [
    "#Top20 reviewers' average ratings and number of reviews\n",
    "top20_reviewer=user_review_counts.head(20).index\n",
    "\n",
    "for i in top20_reviewer:\n",
    "  print(\"reviewerID: \", i)\n",
    "  print(\"Average rating: \", data[data['reviewerID']==i].groupby('reviewerID')['overall'].mean().values)\n",
    "  print(\"Number of reviews: \", data[data['reviewerID']==i].groupby('reviewerID')['overall'].count().values)\n",
    "  print()"
   ]
  },
  {
   "cell_type": "code",
   "execution_count": null,
   "metadata": {},
   "outputs": [],
   "source": [
    "data.dropna(subset=['reviewText'], inplace=True) #Drop reviews without reviewText\n",
    "\n",
    "def tokenize_rm_stopwords_and_length(review):\n",
    "    # Tokenize and remove stop words\n",
    "    tokens = word_tokenize(review)\n",
    "\n",
    "    filtered_tokens = [word for word in tokens if word not in stop_words]\n",
    "    ## Join the tokens back into a string\n",
    "    cleaned_text = ' '.join(filtered_tokens)\n",
    "\n",
    "    cleaned_tokens = word_tokenize(cleaned_text)\n",
    "    # The length of the cleaned text in terms of number of words\n",
    "    length_of_cleaned_text = len(tokens)\n",
    "\n",
    "    return length_of_cleaned_text,cleaned_text\n"
   ]
  },
  {
   "cell_type": "code",
   "execution_count": 33,
   "metadata": {},
   "outputs": [],
   "source": [
    "data['reviewLength'] = data['reviewText'].apply(lambda x: len(x.split()))\n",
    "data[['cleanedReviewLength', 'cleanedReview']] = data['reviewText'].apply(tokenize_rm_stopwords_and_length).apply(lambda x: pd.Series(x))"
   ]
  },
  {
   "cell_type": "code",
   "execution_count": 34,
   "metadata": {},
   "outputs": [
    {
     "data": {
      "text/html": [
       "<div>\n",
       "<style scoped>\n",
       "    .dataframe tbody tr th:only-of-type {\n",
       "        vertical-align: middle;\n",
       "    }\n",
       "\n",
       "    .dataframe tbody tr th {\n",
       "        vertical-align: top;\n",
       "    }\n",
       "\n",
       "    .dataframe thead th {\n",
       "        text-align: right;\n",
       "    }\n",
       "</style>\n",
       "<table border=\"1\" class=\"dataframe\">\n",
       "  <thead>\n",
       "    <tr style=\"text-align: right;\">\n",
       "      <th></th>\n",
       "      <th>reviewLength</th>\n",
       "    </tr>\n",
       "  </thead>\n",
       "  <tbody>\n",
       "    <tr>\n",
       "      <th>count</th>\n",
       "      <td>497419.000000</td>\n",
       "    </tr>\n",
       "    <tr>\n",
       "      <th>mean</th>\n",
       "      <td>122.696216</td>\n",
       "    </tr>\n",
       "    <tr>\n",
       "      <th>std</th>\n",
       "      <td>226.993931</td>\n",
       "    </tr>\n",
       "    <tr>\n",
       "      <th>min</th>\n",
       "      <td>1.000000</td>\n",
       "    </tr>\n",
       "    <tr>\n",
       "      <th>25%</th>\n",
       "      <td>11.000000</td>\n",
       "    </tr>\n",
       "    <tr>\n",
       "      <th>50%</th>\n",
       "      <td>40.000000</td>\n",
       "    </tr>\n",
       "    <tr>\n",
       "      <th>75%</th>\n",
       "      <td>132.000000</td>\n",
       "    </tr>\n",
       "    <tr>\n",
       "      <th>max</th>\n",
       "      <td>5928.000000</td>\n",
       "    </tr>\n",
       "  </tbody>\n",
       "</table>\n",
       "</div>"
      ],
      "text/plain": [
       "        reviewLength\n",
       "count  497419.000000\n",
       "mean      122.696216\n",
       "std       226.993931\n",
       "min         1.000000\n",
       "25%        11.000000\n",
       "50%        40.000000\n",
       "75%       132.000000\n",
       "max      5928.000000"
      ]
     },
     "metadata": {},
     "output_type": "display_data"
    },
    {
     "data": {
      "text/html": [
       "<div>\n",
       "<style scoped>\n",
       "    .dataframe tbody tr th:only-of-type {\n",
       "        vertical-align: middle;\n",
       "    }\n",
       "\n",
       "    .dataframe tbody tr th {\n",
       "        vertical-align: top;\n",
       "    }\n",
       "\n",
       "    .dataframe thead th {\n",
       "        text-align: right;\n",
       "    }\n",
       "</style>\n",
       "<table border=\"1\" class=\"dataframe\">\n",
       "  <thead>\n",
       "    <tr style=\"text-align: right;\">\n",
       "      <th></th>\n",
       "      <th>cleanedReviewLength</th>\n",
       "    </tr>\n",
       "  </thead>\n",
       "  <tbody>\n",
       "    <tr>\n",
       "      <th>count</th>\n",
       "      <td>497419.000000</td>\n",
       "    </tr>\n",
       "    <tr>\n",
       "      <th>mean</th>\n",
       "      <td>140.994668</td>\n",
       "    </tr>\n",
       "    <tr>\n",
       "      <th>std</th>\n",
       "      <td>261.773489</td>\n",
       "    </tr>\n",
       "    <tr>\n",
       "      <th>min</th>\n",
       "      <td>1.000000</td>\n",
       "    </tr>\n",
       "    <tr>\n",
       "      <th>25%</th>\n",
       "      <td>13.000000</td>\n",
       "    </tr>\n",
       "    <tr>\n",
       "      <th>50%</th>\n",
       "      <td>46.000000</td>\n",
       "    </tr>\n",
       "    <tr>\n",
       "      <th>75%</th>\n",
       "      <td>151.000000</td>\n",
       "    </tr>\n",
       "    <tr>\n",
       "      <th>max</th>\n",
       "      <td>7016.000000</td>\n",
       "    </tr>\n",
       "  </tbody>\n",
       "</table>\n",
       "</div>"
      ],
      "text/plain": [
       "       cleanedReviewLength\n",
       "count        497419.000000\n",
       "mean            140.994668\n",
       "std             261.773489\n",
       "min               1.000000\n",
       "25%              13.000000\n",
       "50%              46.000000\n",
       "75%             151.000000\n",
       "max            7016.000000"
      ]
     },
     "metadata": {},
     "output_type": "display_data"
    },
    {
     "data": {
      "text/plain": [
       "array(['So here is the deal...\\n\\nI am reviewing the game, not the Steam Account annoyances or anyone personal computer issue, I will briefly comment on them at the end, but it is not necessary to read, and is not part of the \\'review\\' itself.\\n\\nTHIS IS A LONG REVIEW\\nQuick points (I write detailed reviews, this is for those that don\\'t wish to read it all):\\n\\n* Great graphics/visuals\\n* Attention to detail is high\\n* There is a polish to the game\\n* Combat is reworked and is now real strategy\\n* Happiness is changed and means more\\n* The music could be better\\n* The game is a \\'step change\\' from previous versions, but is still classic Civ\\n* Culture is different and means more\\n* Victory conditions have radically changed for the better\\n* The game \\'flows\\' more and feels more organic\\n* Will take SERIOUS getting used to, but will feel like \\'good old Civ\\' in no time\\n* Must open mind to playing it\\n* Remains vastly deep and complex, probably more than Civ 4, but better interface\\n* Requires Steam\\n* Mods are not affected by Steam\\n* Requires a good PC/Laptop to run\\n* Lots more than can be summarized here, read the review!\\n\\nSo now that those key points are down, I will get on with the rest of the review, good luck reading this by the way, under the 100+ some reviews already written. I usually like to review earlier but without substantial playing time it is pointless reviewing the game.\\n\\nCivilization 5 got, well, 5 stars because I genuinely think it is that good. Not a reaction to negative reviews or star ratings etc - the game lives and dies on it\\'s merits. As a rule ignoring 5 star and 1 star reviews is usually wise, but sometimes a game can be that good, or for that matter, that bad. Civ, is simply put, quite incredible - but it is not without it\\'s faults.\\n\\nThe first thing you will notice is that it is beautiful, quite literally stunning. However this will only be something you can see if you possess a good DirectX 11 graphics card (you probably don\\'t) and have a computer fast enough to run it. Which brings us quite quickly to the first immediate problem of Civ 5. This game demands rescourse and power. It also offers \\'two versions\\' to choose from each time you wish to play - a DirectX 9.0c version and a DirectX 11. This can be confusing. The general rule will be, try DirectX 11, if it is slow and jumpy and unplayable, try DirectX 9. There may be some tweaking required to get it working.\\n\\nI have two rather different computers and their results on playing the game are very different too - one runs smooth, the other wasn\\'t running it at all until I discovered a fix. And be warned, you may need some searching/tweaking to get this game to run, especially on a Windows 7 machine. I will just state this, if you have Windows 7 and your game is unplayabley laggy, and slow on the DirectX 11 version, and crashes upon trying to load the DirectX 9 version, you will need to load the game in \\'windowed mode\\' and without the intro video. I won\\'t explain it it here, but google it, and you\\'ll get some good answere. Once you get it working however it should be fine, okay, so the DirectX 9 version isn\\'t as pretty as the other, but it is still better than Civ 4 by some distance. Sadly, to get \\'top of the line\\' graphics, it has to be paid for, through the nose. If you want to know whether or not your game can run it, go to a helpful site called \\'Can You Run It?\\' - just type that into Google and the site will come up. It is not always totally accurate, claims my PC can\\'t run it, but it can easily - you just need to take note of what it is saying. Enough of that, it is not relevant to review but may serve to be helpful to many.\\n\\nOnce you have managed to get your current PC/Laptop to run it, or bit the bullet and gone out and bought a new PC/Laptop/upgrade - it is quite a treat. Yes you need Steam to activate it etc, I\\'m not a fan particularly but now is not the time and place. Also if you plan to buy this to play with your partner/family members/friends say at home, over a Local game, you will need more than one copy of the game. There may be a workaround for this later (or even now) but I\\'m yet to hear of someone doing it, and was unsuccessful myself. So if you and your wife/husband wish to play this game together, you will need two copies, unlike Civ 4, which is a shame.\\n\\nThe game play is very fluid. In previous versions of Civ it felt a little like a computerized board game. You had your turn, there were strict game mechanics, it was all very mathematical and you plodded along bit by bit. This was not a bad thing, it is what gave it the famous \\'one more turn\\' feel. Civ 5 does away with this in favour of something a little more \\'realistic\\' and organic. One complaint I saw from some was that it no longer felt like \\'one more turn\\' but instead seemed at first quite easy to put down, quit an go do something else. In all honsety that would be a disaster if it were true. You will feel this probably the first time you play, then maybe the second and then you are hooked. My spouse and I felt rather let down at first. We were blown away with the graphics, the mechanics, the smooth gameplay and then felt sort of deflated, and just quit and went and did other things. Can\\'t say that happened with Civ 4. However this soon changed. The reason I think is that the game as someone official on the developing team put it, feels more like you are riding a wave, than climbing a cliff face. Civ veterans are very used to that \\'climb\\' and enjoy it greatly. The wave effect can feel a little too easy, too laid back, too... boring. This doesn\\'t last though. Instead of \\'one more turn\\' you are given the wonder of \\'Is that the time!?\\' feeling. Instead of \\'I think I can stop on turn 251, you get a sense of the ebbing and flowing of gameplay and it becomes more about \\'this seems a good place to rest.\\' You will focus more on the \\'feel\\' of the game rather than exact statistics (which are all there) but no longer as important. It goes from a game \\'by numbers with no surprises\\' to an experience that feels very \\'real worldy\\' (sorry, no better term to use there!) When you negotiate, the AI makes intelligent counter offers, the offers seem realistic too. When you fight units/cities you can see them, feel them weakening, not just \\'3.7 Hit points to go\\' with a percentage of likely success. This all takes some getting used to, and the change in type of addictive play is rather surprising, yet I feel will please just about everyone, though it depends how set in your Civ ways you are. I think this aspect of the game will become seen as a great move, but it will require people to open up to it, and not close their minds on it. Those words usually seem like death to most gamers, me included, but it is genuinely worth understanding the difference. And of course, you can still play the game exactly like Civ 4 in the sense of monitoring statistics/turns etc.\\n\\nGoverning your empire has changed drsstically through oddly, small changes. Individual cities are no longer happy/unhappy, this is a \\'nation wide\\' phenomena now. Again, your mind will grate a bit about the change in mechanics, after 5 years of the Civ 4 way of doing things like happiness, your mind will not like being told to work out the new game mechanic for happy people. It gives helpful advice on how it works, it doesn\\'t mean you won\\'t fight it. But again once you open up to it, it is very good. I often got annoyed in Civ 4 at how certain cities just couldn\\'t be happy, no matter what I did, and if you were not religious/founded a/have access to a religion you wre in trouble. This no longer happens. Trade is very important for happiness now, and long gone are religions. Social Policies are also important and replace \\'civics\\' as a new form of \\'personalizing\\' your empire and getting benefits. Happiness also greatly affects everything now, including your army. If you are unhappy, units will take severe hits to their ability to fight. This makes thinking about wars something more than just \\'can I crush them with 50 horse archers?\\' but instead about \\'can I even afford to do this, with my people already so close to unhappiness?\\' With the loss of civics mind you does come the issue of trying to rectify a bad situation. It isn\\'t as easy I think as it was before, or I have not discovered the solution. The game will play slower in terms of building things, and making changes to make people happy. You cannot for example change civics now (since they are gone) and the social policies are no reverseable. This is not something I\\'ll criticize since I felt similarly about Civ 4 and the way it played when I first got it.\\n\\nThat brings us onto Social Policies. I swear somebody took this idea straight from my mind when I was thinking of ways to improve Civ 4. I had often thought it\\'d be nice to customize your empire, so that it\\'s laws/policies/type of governance could be reflected as I wanted them. Okay, so it is a far cry from that online game \\'Jennifer Government\\' (making new laws everyday that define whether you are say a fascist autocracy or say a liberal technocracy) but t is a very good indeed. You may now decide what type of government you are. This is rather similar to choosing a class/customization of characters in a Role Playing Game. There are many types to choose from (ten I think of the top of my head.) You can mix and match, though if you choose one path you may be unable to follow another. If you choose to be liberal for example, you cannot then choose the path of autocracy. Options include Traditional, Liberty, Honor, Peity, Patronage and others I have just forgotten (that is only half of them.) So you can choose these based on your style of play; small number of cities, military, non-expansive and see what it basically reckons you are as a person(!) or you may play as you think you are, and see how that shapes your empire. Or just do whatever suits you. Either way it is both fun, and effective and gives a better use to culture than just \\'ooh, my border has expanded to have sheep.\\' This also changes the victory conditions but more on that in a second. I should note I am trying to focus a little on things not touted so much in the advertising. I know Social Policies were, but I needed to mention them, since they are in all honesty, just brilliant.\\n\\nSo, what about Victory Conditions? The very aim of the game has changed. This is a surprise not to be mentioned. It now makes more sense and ALL victory conditions are now viable candidates, not just \\'kill your opponent\\' or \\'space race!\\' Time Victory is still the same, and I always turn it off, so nothing new there (to my knowledge.) Let me list the changes:\\n\\n* Domination - You are the last Civilization with your \\'Original Capital\\' (cannot be destroyed ever) standing. Taking the capitals of all over Civs will win you the game - however should you take three capital say in a five player game, and someone takes yours at the last minute, that other person would win, being the last Civilization with their capital still intact.\\n\\n* Space Race - Now we are off to Alpha Centuri, not a massive change, and I have not got this far yet, but I hear it is rather different now, with a lot more options/risks.\\n\\n* Cultural - this one is fun. No longer is just some grotesque amorphous blob srpeading like a virus going to win the game. I saw it happen, some people got good at it, but it makes little sense. Now there is the \\'Utopia Project.\\' You must complete 5 branches of Social Policies and trigger the Utopia Project to win the game. Not to shabby huh?\\n\\n* Diplomatic - seems a little easier to do, rather similar to the past games, with subtle changes.\\n\\nI think overall the changes here are excellent. The previous victories made no sense and often even less sense to try and execute. If someone ever really completed a Domination victory (percent of land/population) I\\'d like to hear from them. These victories make more sense, and now five genuinely different styles of play can legitimately win this game.\\n\\nStill there? Good. I don\\'t do these by halves, I think if you are going to shell money out on something you should have as much info as possible. Usually I refrain from giving too much personal opinion (just stat what is there) but I am finding it hard to remain impartial on this game, I honestly think it is that good - but I accept that my \\'dream\\' on this game may have been realized, and that to someone else, it is a nightmare. I should also note at this point, this is nothing like Civ Revolution (which was awful in my opinion) and is very much like Civ 4, despite someone earlier saying they are nothing alike.\\n\\nInterface wise the game is crisp and clean. And yes seems to have drawn a lot of influence from the \\'fluid GUI\\' interfaces being used in everything now. I hated them at first, again, opened my mind, got used o them. You will notice though, no animations in the Civilopedia/leaderhead selection screens or anything else like that. I was a bit let down by this, hoping to see a very similar Civilopedia and game setup to Civ 4. It looks more classy, yes, but I would still like to have seen more eye candy than just some stylized pictures.\\n\\nSpeaking of eye candy - the Leaders look amazing. But little more need said on it. It is just eye candy, you\\'ll probably love them, but it\\'ll just become \\'oh there is Wu again.\\' Like all eye candy the wow factor wears off quick and is never a reason to buy something. But they are very nice touches and good attention to detail. Catherine the Great though, is a particular wonder to behold. Leaders are also now very varied and some nice changes have been amde. Good to see another female leader in the game, in the form of Wu Zeitan (I think I spelled the last name correctly) who is the leader of China. Only Napoleon, Elizabeth I, Bismark and Catherine really stand out as \\'Civ Favs\\' as the rest are mostly unusual changes, with some countries liek Songhai being in instead of Spain (would like to have seen Spain mind you.) It certainly makes for a nice array of Leaders to handle and they each have their own \\'special abilities\\' (like traits.) Still though, sadly, no Cleopatra for the Egyptians, just old man Rams. I swear they have something against Cleo... anyway...\\n\\nThe music score is great, in places. Sometimes though it is just bloody annoying. On the leaderhead screens it is fantastic, oh and of course the Leaders speak now, that is a lovely touch. The music of the Russians and the Indians is especially nice. The game music for the far Eastern nations like China is by far the winner though, and the music for the French is just awful I\\'m afraid. At one point I developed a twitch and couldn\\'t work out what was driving me crazy, realised it was the music and had to turn the sound off altogether. Waxing an waning trumpets and violins that sound like they are being interrogated by hot pokers is not my idea of \\'music/\\' This type of thing crept into Beyond the Sword, especially in the later game, and I have no idea why. Was the composer sat down and forced to listen to it? I suspect not - after all, we have laws against such things. So you have been warned on that front, stick in a CD listen to that instead if you are playing as the Western powers. A \\'shuffle\\' button would be nice, because some of the music is lovely, not \\'Warlords\\' good, but nice nonetheless. The sound effects are great too, the voice over are classy and sound crisp, clean and fit the part. It all adds a very polished edge to the game. It is a little more \\'clicky\\' than \\'boomy\\' on most sounds (not my preference) but I\\'ve heard others say they prefer this change, feels a little less dramatic ending a turn in other words (again could be part of the \\'being swept along\\' as opposed to \\'turning cogs\\' effect.)\\n\\nNaval combat/moving has been vastly improved. Now any unit can cross water once the correct techs have been researched. This is more realistic and suits the flow of the game nicely. And anyone at this point thinking (if you\\'ve read this far well done) \\'this sounds too easy\\' - you are wrong I\\'m afraid. This game will bite you hard if you slip up. It is not dumbed down, or streamlined in any way in particular. It is more intuitive than before, and I don\\'t really think it is that accessible to new comers really - hence the astonishing amount of tutorials/help information available. This game is in every way as complex and far reaching as Civ 4 and before, in fact, more so. Don\\'t be deceived by a pretty interface and flowing play, the game has more depth and nuances than before and I\\'ll explain an example with combat now.\\n\\nCombat is probably the most touted change. This is rightfully so. Gone are the stacks of doom, and replaced by proper combat. Units take longer to build and no two units can occupy the same squqre. Ranged attack is no essential, and units like archers cannot melee. Finding cover and planning attacks will be tricky nad require more cunning than marching a bunch of units to a city. You can get ambushed, you will get destroyed, even if you have more troops. Strategy is everything. This is not an exaggeration i can assure you. Some have spoke of problems with the AI, I haven\\'t encountered any yet, but have no doubt this is true. Hopefully this will be fixed in up coming patches and they will continue to improve it. There is also a unit cap, somethign not really mentioned but significant. When I first heard of this idea of no units on the same square I thoght \"Great! Hang on... will we get whole maps then of units?\" Luckily, no. The fail safe to this is a unit cap, based on cities/wonders/population etc. You will also likely have less cities in this game too than before (just a side note.) The cap is great, and the time taken to build units means you can by turn say 50 have the most powerful army on the map with two archers, a warrior and a spearman - enough to wage a small war. This is good for not killing computers in the later part of the game when you could have had in Civ 4 about 300-500 units, instead you\\'ll likely have only a few dozen. The new style is like Chess vs ... Dodgeball. Okay I\\'ve never played dodgeball, but I\\'ve been told what it is. Civ 4 was like dodgeball. Just power something at someone, you win. Civ 5 is like chess. I\\'ll give an exact example of what happened to me on my first military conflict.\\n\\nI had two archers, and a spearmen. I helped a City-State of Belgrade and was given (after a few turns) an archer. This was very significant and I nearly didn\\'t help them, flipped a mental coin, came up heads so I did. I was the Chinese, attacking the Japanese. Fairly early on, I was going for Osaka (they had only two cities.) I surrounded Osaka with my archers, quite spread out, two on hills, one in forest. I had my spearmen in between the city and my archers in the forest/hill. When I started the conflict a Japanese warrior came out from the fog of war/shroud (hadn\\'t been able to reveal it) and slammed straight into my archer on the hill. Killing them instantly (no contest, archers cannot melee.) This took me quite by surprise. I had to turn my spearman at them and instead of moving one of the two remaining archers into range, had to stand still and direct arrows onto the warriors. They hurt them badly and my spearman blockaded them from attacking either of the two remaining archers. The archers in the forest, who hadn\\'t done anything yet, fired on the city causing small damage. The city fired back, slaying a couple of spearmen... within my spearman, if that makes sense (a \\'unit\\' is now a squad of like 10 troops, two were killed here, so I had 8/10 HP left.) Now assaulting cities usually requires a total of about four units-ish, some ranged, some melee. But not always. Cities fire on you, you see, and don\\'t need troops inside to defend from attack. So if you can\\'t inflict more damage than they can heal, they can just wear you down. You need to be clever about it. The next turn the warriors crashed into my spearman and my spearman did the job. I was fired on again by the city and had to retreat the spearman into cover and \\'fortify until healed.\\' The other archers on the hill were moved into range and began firing on the city as did the other archers in the forest. They wore the city down over a couple of turns and took high loses themselves. Finally the city looked weak enough, I woke my separman up and charged, took the city. This is how combat now works in Civ 5. Not just \\'troop mashing\\' but real strategy. Also of note, had I NOT helped Belgrade out, and been given the archer unit (the one in the forest) I would have had only a spearman and an archer against the city after having the first archer unit blindsiding by the warrior unit - this would not have been enough and I would have been forced to retreat. That one decision gave me the victory. Small as it may seem, every unit matters in Civ 5. You must guard ranged units with care, and know when to be in cover and when to strike. Unit promotinos also make more sense and actually matter now (like attacking hills promotion, did anyone ever use that in Civ 4?) and there is also an \\'instant unit heal\\' you can choose but you lose your promotion chance. If the AI is messing up later on, then I imagine it will get fixed, but for me, no issues quite yet. Human vs Human conflict will be fascinating, but I haven\\'t done that yet.\\n\\nAlso a quick point, negotiations happen/messages come in, in a point between turns, so as not to have annoying messages up when in the middle of a battle. This is a nice feature.\\n\\nThe game also now had \\'future tech\\' which is fantastic, finally they got the guts to \\'guess\\' at future techs, like giant robots (I know, steady...) and the like.\\n\\nAnother side note, the game is also \\'half stylized\\' and \\'half realistic\\' - this may seem odd visually to some but it is very nice in my opinion. So you have super realistic seas, birds following fish, organic looking hill (two are not alike), and then you have \\'flat drawn on\\' rivers and the like (no waves crashing on boats), it is rather interesting.\\n\\nThere is a also a little more class in the writing of the game. Gone are the childish quips and odd comments. There are still some funny things and good humour but no more \\'i\\'m so cool\\' kind of comments. A personal new favourite is \"the Civilizations with the pointiest sticks\" - not childish just amusing.\\n\\nSo in summary, the game is as addictive as ever, just in a different way. It is more in the vein of Civ 4 and not Revolutions. It feels cleaner and more modern and easier to use. It retains all of the complexity but simply makes it more intuitive to use. There are massive gameplay changes, this is not just an add-on. The changes are great, but will need a lot of time to adjust to and you must be willing to learn it, not just throw up your hands and say \\'this is rubbish.\\' It has some bugs, but less than most games released these days and they are on top of it, with a patch already released for some issues that some experienced. Usually I\\'m dubuous about calling anything a \\'revolution\\' or something that \\'changes everything\\' but this truly does... is. Civ 5 has broken away from much that held the game back. Okay, it was always great, I loved the previous games but so much annoyed me about them, stacks of doom, moronic diplomacy that was always broken, dull combat, mismatched tech growth/military use, pointless victory conditions, over dependence on religions for growth/happiness, and so on. Remember, this game was actually co-created with members of the Civ community and modding teams, in many respects this is a game \\'by the people for the people\\' and is a big shout out to the fans like myself! Okay not all fans have one vision for the game, but it certainly was a vision I had. Look, to put it bluntly I am hard to please. I have modded just about every game I have ever owned, changing mechanics/visuals/content left, right and centre. But this game... hmm, I\\'m honestly struggling to think what I\\'d do to it differently - and I pick up on issues fast. Civ 4 got modded almost instantly. I\\'ve never known a game in history have so many \\'fan demanded\\' aspects put in, let alone capable of reading my mind! You may get this game if you decide to buy it and hate it, I will not deny that it may split some of the community - but you must keep an open mind to change. This was very good change indeed, fan demanded change. It is hard too, when you think of it. If they had rolled out a prettier Civ 4, then what would we all be saying? \"Look, it is just an update, what a waste of money.\" You  would all be saying it. It is hard when people criticize it for staying still or for moving forward, you have to be objective. My view is this, if you liked the old game, then you can still play it - no obligation to buy Civ 5 at all. But for the large proportion of the community that had things it wanted changing, and fixing, it has moved on and done it for them. If they ahd stayed the same, it would have been a failure, called \\'boring\\' or a waste of time. By moving on, we\\'ve gotten something new. Something at least in my view, much, much better.\\n\\nThat ends the review, I hope it was helpful, probably different, and it was meant to be. You can read an official review anywhere which will tout the same old features we have been hearing about for ages, but I wanted to give something different, rate up if it was helpful or rate me down if you lost the will to live half way through! But thanks for reading, I hope it helps make the choice for you.\\n\\n*********************************************************************\\n\\nA LAST NOTE ON DRM/STEAM - READ IF YOU ARE ALSO UNSURE ABOUT BUYING IT\\n\\nOkay so let\\'s look at the one ton white elephant in the room here. Steam. You love it, or you ahte it, the Marmite of modern gaming software. Though I\\'m about to contradict that with a measured viewpoint.\\n\\nYou should know one thing first. Becaues of Steam and the settng of accounts to codes - you pretty much CANNOT return this game if you don\\'t like it. This is, in fact, borderline illegal under the \\'resale act\\' (at least in the US and in places like the UK there is something similar.) Now this is working it\\'s way through the courts as we speak and I\\'m sure more lawsuits are to come. This is a terrible feature of Steam and a \\'deactivation\\' option would have been far, far smarter and they are probably about to get in a whole world of trouble for not doing it, and possibly being too greedy. I object heavily to this kind of anti-piracy. Because in a sense it piracy of the company against legitimate customers. I have to pay $50 (and I\\'m so sorry for you Australians, what is it, $109??) to find out \\'What is in the box?\" It is more like a flea-market sales pitch, than a contract between developer and loyal fan base. Demo\\'s/reviews don\\'t do it justice, especially if you can\\'t play it due to technical reasons. However sometimes, I\\'ve heard legend tell, you can get Steam to refund your money.\\n\\nSo i won\\'t go into it all too much, research \\'Steam\\' if you want to know more. But basically it is anti-piracy. However it has been deemed very draconian and often effects legitimate customers instead of pirates, who always find a way to get around it. The software is also many argue, illegal, and installs subversive elements onto your computer. Company\\'s like Sony got in trouble for this a few years back. This \\'bloatware\\' can slow games and cause fatal computer crashes. However most people don\\'t experience any problems. You will need an internet connection to activate, if you are reading this, you have one. In many respects it stops \\'low level\\' piracy, like friends lending each other games, which hardly ever cost the industry anything. They have poured hundreds of millions into this technology which could have gone into creating better games, but got wasted instead. It is estimated their losses on anti-piracy software far outway the benefit, it seems to have just become about a battle of \\'principle\\' for them now. They are also producing on average sub standard games, and then use \\'pirates\\' as the scapegoats for their failure. They are also pouring a lot of money into advertising, and taking it from development teams - after all, if you can\\'t return it, all they need is you to buy it once. But, not all companies do this, not all who run Steam do this. There is also a fervent, rather obsessive \\'anti-DRM\\', \\'anti-Steam\\' group out there who border on rabid. They can be just as irrational and wildly wrong about statistics as those they criticize. Steam and DRM (Digital Rights Management), you could argue is just the companies protecting their product. After all, I was very against it but realised it really was mostly because we coudn\\'t do what we are all used to, lending games, sharing etc. These laws on games are nothing new, they have just found a way to enforce them. So the companies or \\'Sid\\' doesn\\'t \\'hate\\' you now, they\\'ve always wanted these restrictions, they can just do it now. Do people have to like it, no. The problem really can be shown in the game Spore. The game had huge hype and promise, almost all of it was fake. Images and videos shown of the game contained large numbers of things not atually in the game, some taken back in development due to budget cuts (toward advertising, anti-piracy), some never existed and were just fabricated it was alleged, to sell the game. Once you bought it, you could not return it. They had DRM like this game does, except online play was NECESSARY to the game, so cracking it was almost impossible, some did though and found ways to play it, in fact, a lot did - about 2.5 million was the estimate. Making it, the most pirated game of all time, despite having the most draconian and \\'bestest\\' anti-piracy of all time. More units were downloaded than bought, and despite a post-release \\'look how well it did campaign\\', it could not hide the fact it was a disaster and their financial losses were staggering. Whilst games like Tomb Raider (late 2008 game, Underworld I think) were a tremendous success, financially and critically - despite having NO anti-piracy at all, not even an old fashioned key-code. Nothing. People bought it, because it was a great game. When you trust your consumer base, it rewards you.\\n\\nBut so what? Civ 5 has this Steam stuff. I bought it, I installed it, it is fine. I have had to do it before for games like Empire: Total War (that was a disappointment.) Okay, I found out that I must buy a second copy for me and my spouse to play it against each other (we can still play single player on two computers) and that sucks. But it was always the intent. Should they have offered a \\'bumper pack\\' for families? Yes. It is shocking they didn\\'t. As one person stated, she hda five children and she and her husband wanted to play, that would be seven copies of the game, especially if you don\\'t want a fight. I can\\'t afford $360 for a game, can you? I feel very sorry for people caught in that problem. The companies have closed their minds sadly, and are trying to grip too hard on water in their hands, rather than being intelligent about it, but maybe they\\'ll start to think about it a bit better soon.\\n\\nAnyway, you can at least play it without the disc, on any number of machines you want, and updating is quick and easy. Also modding hasn\\'t been altered by steam, a bloody miracle. So that was a little disjointed my comment on Steam/DRM but there you go. Calm down about it, if you are going to download it, do that, I couldn\\'t care less and don\\'t think any less of anyone that does. This is a bit of a war between the developers and the gamers, and I\\'m curious to know who will crack first, but it\\'ll probably get worse before it gets better sadly. But some companies are not jumping on the scared bandwagon and are still rewarding loyal fans and that is encouraging. At least with Civ 5, no money was taken away from it, it truly is an epic.\\n\\nThanks for reading.\\n\\n***************************************************************************************'],\n",
       "      dtype=object)"
      ]
     },
     "execution_count": 34,
     "metadata": {},
     "output_type": "execute_result"
    }
   ],
   "source": [
    "# Basic summary statistics\n",
    "display(pd.DataFrame(data['reviewLength'].describe()))\n",
    "display(pd.DataFrame(data['cleanedReviewLength'].describe()))\n",
    "\n",
    "#records with min len\n",
    "data[data['reviewLength']==data['reviewLength'].min()]\n",
    "\n",
    "#records with max len counted by tokenization\n",
    "\n",
    "data[data['cleanedReviewLength']==data['cleanedReviewLength'].max()]['reviewText'].values"
   ]
  },
  {
   "cell_type": "code",
   "execution_count": 35,
   "metadata": {},
   "outputs": [],
   "source": [
    "# Remove unused columns first because the determination of duplicates needs hashable columns\n",
    "data.drop(columns=['style','image','vote'],inplace=True)\n",
    "# Remove duplicated rows\n",
    "data.drop_duplicates(inplace=True)"
   ]
  },
  {
   "cell_type": "code",
   "execution_count": 36,
   "metadata": {},
   "outputs": [],
   "source": [
    "data['user_and_asin'] = data['reviewerID'] + data['asin']"
   ]
  },
  {
   "cell_type": "code",
   "execution_count": 37,
   "metadata": {},
   "outputs": [
    {
     "name": "stdout",
     "output_type": "stream",
     "text": [
      "user_and_asin\n",
      "A14KKV5U5XSHXYB00SN1QEGW    70\n",
      "A71Z5AIGEFK11B00SN1QEGW     45\n",
      "A8J2YHESWGF2EB014P7QI6I      6\n",
      "AZQGB17PI6D3NB014P7QI6I      6\n",
      "A2HYAYOI8XX1ITB014P7QI6I     6\n",
      "                            ..\n",
      "AVECM71LSZLC5B01HGPUTCA      1\n",
      "A1RS06313BL6WNB01HH6JEOC     1\n",
      "ACIZ77IGIX2JLB01HH6JEOC      1\n",
      "A34GG58TJ1A3SHB01HIZF7XE     1\n",
      "A2GPRA9HHLOC4B0700026398     1\n",
      "Name: count, Length: 473270, dtype: int64\n"
     ]
    }
   ],
   "source": [
    "# Check records with same user and same ASIN\n",
    "print(data['user_and_asin'].value_counts())"
   ]
  },
  {
   "cell_type": "code",
   "execution_count": 38,
   "metadata": {},
   "outputs": [
    {
     "data": {
      "text/html": [
       "<div>\n",
       "<style scoped>\n",
       "    .dataframe tbody tr th:only-of-type {\n",
       "        vertical-align: middle;\n",
       "    }\n",
       "\n",
       "    .dataframe tbody tr th {\n",
       "        vertical-align: top;\n",
       "    }\n",
       "\n",
       "    .dataframe thead th {\n",
       "        text-align: right;\n",
       "    }\n",
       "</style>\n",
       "<table border=\"1\" class=\"dataframe\">\n",
       "  <thead>\n",
       "    <tr style=\"text-align: right;\">\n",
       "      <th></th>\n",
       "      <th>overall</th>\n",
       "      <th>verified</th>\n",
       "      <th>reviewTime</th>\n",
       "      <th>reviewerID</th>\n",
       "      <th>asin</th>\n",
       "      <th>reviewerName</th>\n",
       "      <th>reviewText</th>\n",
       "      <th>summary</th>\n",
       "      <th>unixReviewTime</th>\n",
       "      <th>reviewLength</th>\n",
       "      <th>cleanedReviewLength</th>\n",
       "      <th>cleanedReview</th>\n",
       "      <th>user_and_asin</th>\n",
       "    </tr>\n",
       "  </thead>\n",
       "  <tbody>\n",
       "    <tr>\n",
       "      <th>390179</th>\n",
       "      <td>5</td>\n",
       "      <td>True</td>\n",
       "      <td>08 2, 2018</td>\n",
       "      <td>A14KKV5U5XSHXY</td>\n",
       "      <td>B00SN1QEGW</td>\n",
       "      <td>Amazoncustomer</td>\n",
       "      <td>I much prefer this controller over the standar...</td>\n",
       "      <td>Should be the standard remote...</td>\n",
       "      <td>1533168000</td>\n",
       "      <td>34</td>\n",
       "      <td>41</td>\n",
       "      <td>I much prefer controller standard Wii Remote ....</td>\n",
       "      <td>A14KKV5U5XSHXYB00SN1QEGW</td>\n",
       "    </tr>\n",
       "    <tr>\n",
       "      <th>390180</th>\n",
       "      <td>5</td>\n",
       "      <td>True</td>\n",
       "      <td>08 2, 2018</td>\n",
       "      <td>A14KKV5U5XSHXY</td>\n",
       "      <td>B00SN1QEGW</td>\n",
       "      <td>Amazoncustomer</td>\n",
       "      <td>This controller makes any game that supports i...</td>\n",
       "      <td>This controller makes any game that supports i...</td>\n",
       "      <td>1533168000</td>\n",
       "      <td>29</td>\n",
       "      <td>29</td>\n",
       "      <td>This controller makes game supports much playa...</td>\n",
       "      <td>A14KKV5U5XSHXYB00SN1QEGW</td>\n",
       "    </tr>\n",
       "    <tr>\n",
       "      <th>390181</th>\n",
       "      <td>5</td>\n",
       "      <td>True</td>\n",
       "      <td>08 2, 2018</td>\n",
       "      <td>A14KKV5U5XSHXY</td>\n",
       "      <td>B00SN1QEGW</td>\n",
       "      <td>Amazoncustomer</td>\n",
       "      <td>Feels great in your hands and works very well....</td>\n",
       "      <td>Excellent!</td>\n",
       "      <td>1533168000</td>\n",
       "      <td>27</td>\n",
       "      <td>30</td>\n",
       "      <td>Feels great hands works well . It familiar des...</td>\n",
       "      <td>A14KKV5U5XSHXYB00SN1QEGW</td>\n",
       "    </tr>\n",
       "    <tr>\n",
       "      <th>390182</th>\n",
       "      <td>5</td>\n",
       "      <td>True</td>\n",
       "      <td>08 2, 2018</td>\n",
       "      <td>A14KKV5U5XSHXY</td>\n",
       "      <td>B00SN1QEGW</td>\n",
       "      <td>Amazoncustomer</td>\n",
       "      <td>Bought this for super smash bros. It is a grea...</td>\n",
       "      <td>Does what it's supposed to</td>\n",
       "      <td>1533168000</td>\n",
       "      <td>40</td>\n",
       "      <td>45</td>\n",
       "      <td>Bought super smash bros . It great controller ...</td>\n",
       "      <td>A14KKV5U5XSHXYB00SN1QEGW</td>\n",
       "    </tr>\n",
       "    <tr>\n",
       "      <th>390183</th>\n",
       "      <td>5</td>\n",
       "      <td>True</td>\n",
       "      <td>08 2, 2018</td>\n",
       "      <td>A14KKV5U5XSHXY</td>\n",
       "      <td>B00SN1QEGW</td>\n",
       "      <td>Amazoncustomer</td>\n",
       "      <td>Definitely one of my favorite controllers. Sym...</td>\n",
       "      <td>Five Stars</td>\n",
       "      <td>1533168000</td>\n",
       "      <td>67</td>\n",
       "      <td>77</td>\n",
       "      <td>Definitely one favorite controllers . Symmetri...</td>\n",
       "      <td>A14KKV5U5XSHXYB00SN1QEGW</td>\n",
       "    </tr>\n",
       "    <tr>\n",
       "      <th>...</th>\n",
       "      <td>...</td>\n",
       "      <td>...</td>\n",
       "      <td>...</td>\n",
       "      <td>...</td>\n",
       "      <td>...</td>\n",
       "      <td>...</td>\n",
       "      <td>...</td>\n",
       "      <td>...</td>\n",
       "      <td>...</td>\n",
       "      <td>...</td>\n",
       "      <td>...</td>\n",
       "      <td>...</td>\n",
       "      <td>...</td>\n",
       "    </tr>\n",
       "    <tr>\n",
       "      <th>390244</th>\n",
       "      <td>5</td>\n",
       "      <td>True</td>\n",
       "      <td>08 2, 2018</td>\n",
       "      <td>A14KKV5U5XSHXY</td>\n",
       "      <td>B00SN1QEGW</td>\n",
       "      <td>Amazoncustomer</td>\n",
       "      <td>am so used to having the 2nd analog stick belo...</td>\n",
       "      <td>They ahd the best thing going with the gamecub...</td>\n",
       "      <td>1533168000</td>\n",
       "      <td>48</td>\n",
       "      <td>51</td>\n",
       "      <td>used 2nd analog stick buttons I could get used...</td>\n",
       "      <td>A14KKV5U5XSHXYB00SN1QEGW</td>\n",
       "    </tr>\n",
       "    <tr>\n",
       "      <th>390245</th>\n",
       "      <td>5</td>\n",
       "      <td>True</td>\n",
       "      <td>08 2, 2018</td>\n",
       "      <td>A14KKV5U5XSHXY</td>\n",
       "      <td>B00SN1QEGW</td>\n",
       "      <td>Amazoncustomer</td>\n",
       "      <td>Really pleased with this controller, so much n...</td>\n",
       "      <td>Really pleased with this controller</td>\n",
       "      <td>1533168000</td>\n",
       "      <td>47</td>\n",
       "      <td>54</td>\n",
       "      <td>Really pleased controller , much nicer use gia...</td>\n",
       "      <td>A14KKV5U5XSHXYB00SN1QEGW</td>\n",
       "    </tr>\n",
       "    <tr>\n",
       "      <th>493403</th>\n",
       "      <td>5</td>\n",
       "      <td>True</td>\n",
       "      <td>08 2, 2018</td>\n",
       "      <td>A14KKV5U5XSHXY</td>\n",
       "      <td>B00SN1QEGW</td>\n",
       "      <td>Amazoncustomer</td>\n",
       "      <td>Needed this as an accessory for Wii U as there...</td>\n",
       "      <td>Does the job!</td>\n",
       "      <td>1533168000</td>\n",
       "      <td>16</td>\n",
       "      <td>19</td>\n",
       "      <td>Needed accessory Wii U n't enough controllers ...</td>\n",
       "      <td>A14KKV5U5XSHXYB00SN1QEGW</td>\n",
       "    </tr>\n",
       "    <tr>\n",
       "      <th>493404</th>\n",
       "      <td>5</td>\n",
       "      <td>True</td>\n",
       "      <td>08 2, 2018</td>\n",
       "      <td>A14KKV5U5XSHXY</td>\n",
       "      <td>B00SN1QEGW</td>\n",
       "      <td>Amazoncustomer</td>\n",
       "      <td>The control is beautiful . Super cmodo y preci...</td>\n",
       "      <td>The best control in the world.</td>\n",
       "      <td>1533168000</td>\n",
       "      <td>27</td>\n",
       "      <td>32</td>\n",
       "      <td>The control beautiful . Super cmodo preciso . ...</td>\n",
       "      <td>A14KKV5U5XSHXYB00SN1QEGW</td>\n",
       "    </tr>\n",
       "    <tr>\n",
       "      <th>493405</th>\n",
       "      <td>5</td>\n",
       "      <td>True</td>\n",
       "      <td>08 2, 2018</td>\n",
       "      <td>A14KKV5U5XSHXY</td>\n",
       "      <td>B00SN1QEGW</td>\n",
       "      <td>Amazoncustomer</td>\n",
       "      <td>Love this pro controller, its very confortable...</td>\n",
       "      <td>Great controller incredible battery.</td>\n",
       "      <td>1533168000</td>\n",
       "      <td>65</td>\n",
       "      <td>75</td>\n",
       "      <td>Love pro controller , confortable , I used ass...</td>\n",
       "      <td>A14KKV5U5XSHXYB00SN1QEGW</td>\n",
       "    </tr>\n",
       "  </tbody>\n",
       "</table>\n",
       "<p>70 rows × 13 columns</p>\n",
       "</div>"
      ],
      "text/plain": [
       "        overall  verified  reviewTime      reviewerID        asin  \\\n",
       "390179        5      True  08 2, 2018  A14KKV5U5XSHXY  B00SN1QEGW   \n",
       "390180        5      True  08 2, 2018  A14KKV5U5XSHXY  B00SN1QEGW   \n",
       "390181        5      True  08 2, 2018  A14KKV5U5XSHXY  B00SN1QEGW   \n",
       "390182        5      True  08 2, 2018  A14KKV5U5XSHXY  B00SN1QEGW   \n",
       "390183        5      True  08 2, 2018  A14KKV5U5XSHXY  B00SN1QEGW   \n",
       "...         ...       ...         ...             ...         ...   \n",
       "390244        5      True  08 2, 2018  A14KKV5U5XSHXY  B00SN1QEGW   \n",
       "390245        5      True  08 2, 2018  A14KKV5U5XSHXY  B00SN1QEGW   \n",
       "493403        5      True  08 2, 2018  A14KKV5U5XSHXY  B00SN1QEGW   \n",
       "493404        5      True  08 2, 2018  A14KKV5U5XSHXY  B00SN1QEGW   \n",
       "493405        5      True  08 2, 2018  A14KKV5U5XSHXY  B00SN1QEGW   \n",
       "\n",
       "          reviewerName                                         reviewText  \\\n",
       "390179  Amazoncustomer  I much prefer this controller over the standar...   \n",
       "390180  Amazoncustomer  This controller makes any game that supports i...   \n",
       "390181  Amazoncustomer  Feels great in your hands and works very well....   \n",
       "390182  Amazoncustomer  Bought this for super smash bros. It is a grea...   \n",
       "390183  Amazoncustomer  Definitely one of my favorite controllers. Sym...   \n",
       "...                ...                                                ...   \n",
       "390244  Amazoncustomer  am so used to having the 2nd analog stick belo...   \n",
       "390245  Amazoncustomer  Really pleased with this controller, so much n...   \n",
       "493403  Amazoncustomer  Needed this as an accessory for Wii U as there...   \n",
       "493404  Amazoncustomer  The control is beautiful . Super cmodo y preci...   \n",
       "493405  Amazoncustomer  Love this pro controller, its very confortable...   \n",
       "\n",
       "                                                  summary  unixReviewTime  \\\n",
       "390179                   Should be the standard remote...      1533168000   \n",
       "390180  This controller makes any game that supports i...      1533168000   \n",
       "390181                                         Excellent!      1533168000   \n",
       "390182                         Does what it's supposed to      1533168000   \n",
       "390183                                         Five Stars      1533168000   \n",
       "...                                                   ...             ...   \n",
       "390244  They ahd the best thing going with the gamecub...      1533168000   \n",
       "390245                Really pleased with this controller      1533168000   \n",
       "493403                                      Does the job!      1533168000   \n",
       "493404                     The best control in the world.      1533168000   \n",
       "493405               Great controller incredible battery.      1533168000   \n",
       "\n",
       "        reviewLength  cleanedReviewLength  \\\n",
       "390179            34                   41   \n",
       "390180            29                   29   \n",
       "390181            27                   30   \n",
       "390182            40                   45   \n",
       "390183            67                   77   \n",
       "...              ...                  ...   \n",
       "390244            48                   51   \n",
       "390245            47                   54   \n",
       "493403            16                   19   \n",
       "493404            27                   32   \n",
       "493405            65                   75   \n",
       "\n",
       "                                            cleanedReview  \\\n",
       "390179  I much prefer controller standard Wii Remote ....   \n",
       "390180  This controller makes game supports much playa...   \n",
       "390181  Feels great hands works well . It familiar des...   \n",
       "390182  Bought super smash bros . It great controller ...   \n",
       "390183  Definitely one favorite controllers . Symmetri...   \n",
       "...                                                   ...   \n",
       "390244  used 2nd analog stick buttons I could get used...   \n",
       "390245  Really pleased controller , much nicer use gia...   \n",
       "493403  Needed accessory Wii U n't enough controllers ...   \n",
       "493404  The control beautiful . Super cmodo preciso . ...   \n",
       "493405  Love pro controller , confortable , I used ass...   \n",
       "\n",
       "                   user_and_asin  \n",
       "390179  A14KKV5U5XSHXYB00SN1QEGW  \n",
       "390180  A14KKV5U5XSHXYB00SN1QEGW  \n",
       "390181  A14KKV5U5XSHXYB00SN1QEGW  \n",
       "390182  A14KKV5U5XSHXYB00SN1QEGW  \n",
       "390183  A14KKV5U5XSHXYB00SN1QEGW  \n",
       "...                          ...  \n",
       "390244  A14KKV5U5XSHXYB00SN1QEGW  \n",
       "390245  A14KKV5U5XSHXYB00SN1QEGW  \n",
       "493403  A14KKV5U5XSHXYB00SN1QEGW  \n",
       "493404  A14KKV5U5XSHXYB00SN1QEGW  \n",
       "493405  A14KKV5U5XSHXYB00SN1QEGW  \n",
       "\n",
       "[70 rows x 13 columns]"
      ]
     },
     "execution_count": 38,
     "metadata": {},
     "output_type": "execute_result"
    }
   ],
   "source": [
    "data[data['user_and_asin']=='A14KKV5U5XSHXYB00SN1QEGW']"
   ]
  },
  {
   "cell_type": "markdown",
   "metadata": {},
   "source": [
    "**EDA Findings**\n",
    "\n",
    "- Dataset is highly imbalanced, which should be considered during analysis.\n",
    "- Some of the products receives significantly more reviews than most of the other products\n",
    "- The average rating for most of the products is above 3\n",
    "- Some of the users have hundreds of reviews; however, their ratings are not uniform\n",
    "- There are outlier reviews in terms of their length\n",
    "- There are reviews for the same product written by the same UserID on the same day and time. There could be system error, but won't affect the sentiment analysis"
   ]
  },
  {
   "cell_type": "markdown",
   "metadata": {},
   "source": [
    "## Preprocessing"
   ]
  },
  {
   "cell_type": "code",
   "execution_count": 39,
   "metadata": {},
   "outputs": [],
   "source": [
    "data['label'] = data['overall'].apply(lambda x: 'Positive' if x in (4,5) else ('Negative' if x in (1,2) else 'Neutral'))"
   ]
  },
  {
   "cell_type": "code",
   "execution_count": 40,
   "metadata": {},
   "outputs": [
    {
     "data": {
      "text/plain": [
       "label\n",
       "Positive    375486\n",
       "Negative     51980\n",
       "Neutral      46558\n",
       "Name: count, dtype: int64"
      ]
     },
     "execution_count": 40,
     "metadata": {},
     "output_type": "execute_result"
    }
   ],
   "source": [
    "data['label'].value_counts()"
   ]
  },
  {
   "cell_type": "code",
   "execution_count": 41,
   "metadata": {},
   "outputs": [
    {
     "data": {
      "image/png": "[encoded data removed]",
      "text/plain": [
       "<Figure size 600x400 with 1 Axes>"
      ]
     },
     "metadata": {},
     "output_type": "display_data"
    }
   ],
   "source": [
    "fig = plt.figure(figsize=(6,4))\n",
    "sns.barplot(x=data['label'].value_counts().index, y=data['label'].value_counts())\n",
    "plt.title('User Review Type Distribution')\n",
    "plt.tight_layout()\n",
    "plt.xlabel('label')\n",
    "plt.ylabel('count')\n",
    "plt.show()"
   ]
  },
  {
   "cell_type": "code",
   "execution_count": 42,
   "metadata": {},
   "outputs": [],
   "source": [
    "def remove_punctuation(sentence):\n",
    "    # Tokenize the sentence into words\n",
    "    words = word_tokenize(sentence)\n",
    "\n",
    "    # Remove punctuation and lowercase the words\n",
    "    words_without_punctuations = [word.lower() for word in words if word.isalnum()]\n",
    "\n",
    "    return words_without_punctuations"
   ]
  },
  {
   "cell_type": "code",
   "execution_count": null,
   "metadata": {},
   "outputs": [],
   "source": []
  }
 ],
 "metadata": {
  "kernelspec": {
   "display_name": "NLP_env",
   "language": "python",
   "name": "python3"
  },
  "language_info": {
   "codemirror_mode": {
    "name": "ipython",
    "version": 3
   },
   "file_extension": ".py",
   "mimetype": "text/x-python",
   "name": "python",
   "nbconvert_exporter": "python",
   "pygments_lexer": "ipython3",
   "version": "3.9.18"
  }
 },
 "nbformat": 4,
 "nbformat_minor": 2
}
